{
 "cells": [
  {
   "cell_type": "markdown",
   "metadata": {},
   "source": [
    "# Search Relevance\n",
    "\n",
    "## Purpose\n",
    "\n",
    "Now that we a sentiment classification model that was trained on financial news, we can start using it on actual articles. However, a problem that arises is that a particular article might not be entirely relevant to the stock that we are analysing. For example, an article might contain the term 'AAPL', but only makes a brief mention of it. A sentiment classification would not be insightful. Therefore, we need to find a way to quantify an article's relevance to a certain company.\n",
    "\n",
    "## Getting News Articles\n",
    "\n",
    "> \"Supported by Google Jigsaw, the [GDELT Project](https://www.gdeltproject.org/) monitors the world's broadcast, print, and web news from nearly every corner of every country in over 100 languages and identifies the people, locations, organizations, themes, sources, emotions, counts, quotes, images and events driving our global society every second of every day, creating a free open platform for computing on the entire world.\"\n",
    "\n",
    "Their API is documented [here](https://blog.gdeltproject.org/announcing-the-gdelt-full-text-search-api/). Notably, the max number of records per API call is 250, and the maxmium period is three months. To get a comprehensive list of articles, query articles on a daily basis.\n",
    "\n",
    "I use the `get_links.py` script to get article links for AAPL from 2020-07-18 to 2020-10-18 (three months). Then, I use the `get_info.py` script which utilises the `newspaper` library to extract the relevant information."
   ]
  },
  {
   "cell_type": "code",
   "execution_count": null,
   "metadata": {},
   "outputs": [],
   "source": []
  },
  {
   "cell_type": "code",
   "execution_count": null,
   "metadata": {},
   "outputs": [],
   "source": []
  }
 ],
 "metadata": {
  "kernelspec": {
   "display_name": "Python 3",
   "language": "python",
   "name": "python3"
  },
  "language_info": {
   "codemirror_mode": {
    "name": "ipython",
    "version": 3
   },
   "file_extension": ".py",
   "mimetype": "text/x-python",
   "name": "python",
   "nbconvert_exporter": "python",
   "pygments_lexer": "ipython3",
   "version": "3.8.5"
  },
  "toc": {
   "base_numbering": "4",
   "nav_menu": {},
   "number_sections": true,
   "sideBar": true,
   "skip_h1_title": false,
   "title_cell": "Table of Contents",
   "title_sidebar": "Contents",
   "toc_cell": false,
   "toc_position": {
    "height": "calc(100% - 180px)",
    "left": "10px",
    "top": "150px",
    "width": "203.512px"
   },
   "toc_section_display": true,
   "toc_window_display": false
  }
 },
 "nbformat": 4,
 "nbformat_minor": 4
}
